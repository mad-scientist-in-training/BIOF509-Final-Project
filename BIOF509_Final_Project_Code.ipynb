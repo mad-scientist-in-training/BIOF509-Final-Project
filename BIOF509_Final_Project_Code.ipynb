{
  "nbformat": 4,
  "nbformat_minor": 0,
  "metadata": {
    "colab": {
      "name": "BIOF509 Final Project Code",
      "provenance": [],
      "collapsed_sections": [],
      "authorship_tag": "ABX9TyM5vF9KxUy5Sm+DHDfU8g5x",
      "include_colab_link": true
    },
    "kernelspec": {
      "name": "python3",
      "display_name": "Python 3"
    }
  },
  "cells": [
    {
      "cell_type": "markdown",
      "metadata": {
        "id": "view-in-github",
        "colab_type": "text"
      },
      "source": [
        "<a href=\"https://colab.research.google.com/github/mad-scientist-in-training/BIOF509-Final-Project/blob/Project-Code/BIOF509_Final_Project_Code.ipynb\" target=\"_parent\"><img src=\"https://colab.research.google.com/assets/colab-badge.svg\" alt=\"Open In Colab\"/></a>"
      ]
    },
    {
      "cell_type": "code",
      "metadata": {
        "id": "UOayFAc8z8-l"
      },
      "source": [
        "#This is a project to determine if speech patterns in Parkinson's patients vs healthy controls can be used to train a Support Vector Machine model to predict which patients belong to which category."
      ],
      "execution_count": null,
      "outputs": []
    },
    {
      "cell_type": "code",
      "metadata": {
        "id": "S-WdHULp0fgG"
      },
      "source": [
        "#Code outline"
      ],
      "execution_count": null,
      "outputs": []
    },
    {
      "cell_type": "code",
      "metadata": {
        "id": "gSgeQX9V0wwX"
      },
      "source": [
        "#to download the kaggle dataset, create a kaggle folder under google drive, create a new API token under account in kaggle, put the kaggle.json file into the kaggle folder in your drive, and mount the drive\n",
        "from google.colab import drive\n",
        "drive.mount('/content/gdrive')\n",
        "import os\n",
        "os.environ['KAGGLEC_CONFIG_DIR'] = \"content/gdrive/My Drive/kaggle_dataset\"\n",
        "%cd /content/gdrive/My Drive/kaggle_dataset\n",
        "#copy the API command from kaggle and unzip the file\n",
        "!kaggle datasets download -d ruslankl/early-biomarkers-of-parkinsons-disease\n",
        "!unzip early-biomarkers-of-parkinsons-disease"
      ],
      "execution_count": null,
      "outputs": []
    },
    {
      "cell_type": "code",
      "metadata": {
        "id": "55Wpull4raLz"
      },
      "source": [
        "#manipulate/visualize dataset to keep features you are interested in and get rid of ones you don't care about\n",
        "import pandas as pd\n",
        "PD_df = pd.read_csv(r'dataset.csv')\n",
        "print(PD_df)\n",
        "len(PD_df)\n",
        "PD_df.head()"
      ],
      "execution_count": null,
      "outputs": []
    },
    {
      "cell_type": "code",
      "metadata": {
        "id": "z4w83hkNaszn"
      },
      "source": [
        "#drop the first 40 columns, as they contain info we don't need\n",
        "PD_df_1 = PD_df.drop(PD_df.columns[1:41], axis=1)\n",
        "print(PD_df_1)\n",
        "#drop the participant codes containing RBD\n",
        "PD_df_2 = PD_df_1.drop(index= [30,31,32,33,34,35,36,37,38,39,40,41,42,43,44,45,46,47,48,49,50,51,52,53,54,55,56,57,58,59,60,61,62,63,64,65,66,67,68,69,70,71,72,73,74,75,76,77,78,79])\n",
        "print(PD_df_2)\n",
        "PD_df_2.columns\n"
      ],
      "execution_count": null,
      "outputs": []
    },
    {
      "cell_type": "code",
      "metadata": {
        "id": "fKT4stpZyuk8"
      },
      "source": [
        "#Participant code needs to be made into distinct classes: P (Parkinson's disease) vs H (Healthy Control), which will be the target\n",
        "import numpy as np\n",
        "PD_DF = PD_df_2.rename({' Participant  code ':'Participant_Type'}, axis=1)\n",
        "print(PD_DF.columns)\n",
        "PD_DF['class'] = PD_DF.Participant_Type.str[0]\n",
        "print(PD_DF)\n",
        "target = PD_DF.pop('class')\n",
        "PD_DF.insert(0, 'class', target)\n",
        "PD_DF_new = PD_DF.drop(PD_DF.columns[1], axis=1)\n",
        "PD_DF_new"
      ],
      "execution_count": null,
      "outputs": []
    },
    {
      "cell_type": "code",
      "metadata": {
        "id": "fcm7GtTpY-7G"
      },
      "source": [
        "#scale the data\n",
        "import numpy as np\n",
        "import pandas as pd\n",
        "from sklearn.preprocessing import StandardScaler\n",
        "x = PD_DF_new.loc[:, PD_DF_new.columns != 'class'].values\n",
        "x = StandardScaler().fit_transform(x)\n",
        "print(x.shape)\n",
        "print(np.mean(x))\n",
        "print(np.std(x))\n",
        "df = pd.DataFrame(x)\n",
        "print(df)\n"
      ],
      "execution_count": null,
      "outputs": []
    },
    {
      "cell_type": "code",
      "metadata": {
        "id": "XrFIMVcdc9P-"
      },
      "source": [
        "#run a PCA with two components, the same number as the classes of patients (healthy vs PD)\n",
        "from sklearn.decomposition import PCA\n",
        "pca_PD = PCA(n_components=2)\n",
        "principleComponents_PD = pca_PD.fit_transform(x)"
      ],
      "execution_count": null,
      "outputs": []
    },
    {
      "cell_type": "code",
      "metadata": {
        "id": "8PLE8p6-dd2l",
        "outputId": "21091edc-f26d-45a1-9166-f600896a6f0b",
        "colab": {
          "base_uri": "https://localhost:8080/",
          "height": 195
        }
      },
      "source": [
        "#visualize the components\n",
        "principle_PD_DF = pd.DataFrame(data = principleComponents_PD, columns= ['principle_component1', 'principle_component2'])\n",
        "principle_PD_DF.tail()"
      ],
      "execution_count": null,
      "outputs": [
        {
          "output_type": "execute_result",
          "data": {
            "text/html": [
              "<div>\n",
              "<style scoped>\n",
              "    .dataframe tbody tr th:only-of-type {\n",
              "        vertical-align: middle;\n",
              "    }\n",
              "\n",
              "    .dataframe tbody tr th {\n",
              "        vertical-align: top;\n",
              "    }\n",
              "\n",
              "    .dataframe thead th {\n",
              "        text-align: right;\n",
              "    }\n",
              "</style>\n",
              "<table border=\"1\" class=\"dataframe\">\n",
              "  <thead>\n",
              "    <tr style=\"text-align: right;\">\n",
              "      <th></th>\n",
              "      <th>principle_component1</th>\n",
              "      <th>principle_component2</th>\n",
              "    </tr>\n",
              "  </thead>\n",
              "  <tbody>\n",
              "    <tr>\n",
              "      <th>75</th>\n",
              "      <td>2.465902</td>\n",
              "      <td>1.455955</td>\n",
              "    </tr>\n",
              "    <tr>\n",
              "      <th>76</th>\n",
              "      <td>0.542998</td>\n",
              "      <td>0.834763</td>\n",
              "    </tr>\n",
              "    <tr>\n",
              "      <th>77</th>\n",
              "      <td>2.496417</td>\n",
              "      <td>-0.186708</td>\n",
              "    </tr>\n",
              "    <tr>\n",
              "      <th>78</th>\n",
              "      <td>0.036594</td>\n",
              "      <td>0.885698</td>\n",
              "    </tr>\n",
              "    <tr>\n",
              "      <th>79</th>\n",
              "      <td>2.104952</td>\n",
              "      <td>1.110782</td>\n",
              "    </tr>\n",
              "  </tbody>\n",
              "</table>\n",
              "</div>"
            ],
            "text/plain": [
              "    principle_component1  principle_component2\n",
              "75              2.465902              1.455955\n",
              "76              0.542998              0.834763\n",
              "77              2.496417             -0.186708\n",
              "78              0.036594              0.885698\n",
              "79              2.104952              1.110782"
            ]
          },
          "metadata": {
            "tags": []
          },
          "execution_count": 147
        }
      ]
    },
    {
      "cell_type": "code",
      "metadata": {
        "id": "3O467vHdeE8F"
      },
      "source": [
        "print('Explained variation between principle components: {}'.format(pca_PD.explained_variance_ratio_))"
      ],
      "execution_count": null,
      "outputs": []
    },
    {
      "cell_type": "code",
      "metadata": {
        "id": "Mll61SD3elXk",
        "outputId": "2ecaab1e-05dc-47bc-da2b-75f18fac8c07",
        "colab": {
          "base_uri": "https://localhost:8080/",
          "height": 542
        }
      },
      "source": [
        "#plot the principle components vs the classes - healthy vs PD\n",
        "import matplotlib.pyplot as plt\n",
        "import plotly.express as px\n",
        "px.scatter(x=principle_PD_DF['principle_component1'], y=principle_PD_DF['principle_component2'], color= PD_DF_new['class'])\n",
        "\n"
      ],
      "execution_count": null,
      "outputs": [
        {
          "output_type": "display_data",
          "data": {
            "text/html": [
              "<html>\n",
              "<head><meta charset=\"utf-8\" /></head>\n",
              "<body>\n",
              "    <div>\n",
              "            <script src=\"https://cdnjs.cloudflare.com/ajax/libs/mathjax/2.7.5/MathJax.js?config=TeX-AMS-MML_SVG\"></script><script type=\"text/javascript\">if (window.MathJax) {MathJax.Hub.Config({SVG: {font: \"STIX-Web\"}});}</script>\n",
              "                <script type=\"text/javascript\">window.PlotlyConfig = {MathJaxConfig: 'local'};</script>\n",
              "        <script src=\"https://cdn.plot.ly/plotly-latest.min.js\"></script>    \n",
              "            <div id=\"459a0d65-c615-4dac-81fc-9e669575db05\" class=\"plotly-graph-div\" style=\"height:525px; width:100%;\"></div>\n",
              "            <script type=\"text/javascript\">\n",
              "                \n",
              "                    window.PLOTLYENV=window.PLOTLYENV || {};\n",
              "                    \n",
              "                if (document.getElementById(\"459a0d65-c615-4dac-81fc-9e669575db05\")) {\n",
              "                    Plotly.newPlot(\n",
              "                        '459a0d65-c615-4dac-81fc-9e669575db05',\n",
              "                        [{\"hoverlabel\": {\"namelength\": 0}, \"hovertemplate\": \"color=P<br>x=%{x}<br>y=%{y}\", \"legendgroup\": \"color=P\", \"marker\": {\"color\": \"#636efa\", \"symbol\": \"circle\"}, \"mode\": \"markers\", \"name\": \"color=P\", \"showlegend\": true, \"type\": \"scatter\", \"x\": [-1.3879882624376905, 0.15723161494704063, 2.725525447650222, 11.748650061389188, 2.7928966996200613, 6.679693172349932, 0.021852643076019453, -4.138905296589535, -1.5714579731603648, 2.944592114811304, 6.532506547078784, -0.7015953856235727, 2.212043910227505, -0.12643235749683165, 0.3588906588592102, -0.4931964543753156, -2.5678189440487524, 2.6689468673536, 1.6669582079141623, -0.047472535893394965, 0.040201247584931814, 3.1142907807687306, 0.617982971690928, 1.2110803768176661, 2.792936871071341, -1.6595938891944546, -1.9743837596451324, -2.710157197847299, 0.9166314980224004, 0.7684579602340361], \"xaxis\": \"x\", \"y\": [0.2740672379579116, 0.4350035703937521, 0.558956418984218, 2.05282615943621, 0.12034937154990402, 0.28994302302992914, 1.7796852213110637, 2.879737462944824, -0.5637622643936598, -0.2356257829916208, -1.4513613688618343, 0.6293029170405539, -1.640681978822604, 0.5412241429762856, 0.14309615614988594, -0.5582369399960618, 0.29958055575951653, -0.4278020851105494, -0.21984776740667164, -0.13232982763931983, -0.9355720338801136, -0.030273649202213464, -2.1404520517907804, -1.6967060870091752, 0.6543910884929319, 0.5507723965846439, -0.765535795651534, 4.130323749509567, -0.8092012204725084, 0.21382834600979655], \"yaxis\": \"y\"}, {\"hoverlabel\": {\"namelength\": 0}, \"hovertemplate\": \"color=H<br>x=%{x}<br>y=%{y}\", \"legendgroup\": \"color=H\", \"marker\": {\"color\": \"#EF553B\", \"symbol\": \"circle\"}, \"mode\": \"markers\", \"name\": \"color=H\", \"showlegend\": true, \"type\": \"scatter\", \"x\": [3.904619997049288, 0.5011947012796536, 0.0870601330815705, -1.2044937467897625, -2.330101312260445, -1.2563922798922282, 2.6513381849830706, -0.15163138878037505, -0.04197658396791021, -3.18725377000045, -4.138783198761314, 1.4760079883189885, -0.7103258348987264, -0.6381850091112058, -2.601495895344022, -1.7033037729890703, 3.5082155765842113, -0.6726325976546007, -4.470056813553474, 0.307377651228445, -4.377261993145005, -4.4627476855935715, -0.597790086957108, -1.1591964861372592, 1.278185441969974, 0.8143859582699512, -2.67612603886619, -2.025084484226434, -1.607491713478608, -2.208070981966472, 2.186431464218599, -0.8613051370685191, -0.3920410457242149, -3.459676662251229, 0.5000436521844126, -2.0476544925307056, -1.5092324926821854, 0.9935566776755234, -2.2381187998066085, -0.8817010324055812, 0.4428208663902283, 1.9079612630062366, -0.31484092301213457, -2.3093146313125, -4.564143768811749, 2.4659017828458687, 0.5429983373996607, 2.4964172053508284, 0.036594329527080735, 2.104951853461355], \"xaxis\": \"x\", \"y\": [-0.6797989263295188, 0.21457650482514687, -1.53240867234943, -1.4219627132148105, 0.528101576614927, -1.1732300522424355, -0.4459421874903712, -1.25505146647193, 0.036719236695701825, 1.9896111718203928, -3.674501551315378, -1.715816854178033, -1.8826865778310558, 0.8537441019939551, 0.4207243408417361, 1.7038393503728813, 0.214186460742244, 0.5746114868153173, 0.4082614012442733, 0.1886072276576493, 2.1095149978704626, 2.1377745566007675, -2.504826990953592, -1.5642862209718766, 0.372300303517079, -0.6554493952617495, -0.8474554956486477, -1.9222467296386674, -3.6432661621028557, -0.00952452840062345, -0.7176970013113843, -0.9079135648566204, -1.2388164141398224, 0.3576605339243198, -0.585454933262175, -0.6154160254528074, -0.11509724110615827, 1.424460495397178, -1.817506369990483, 2.5964971242823522, -0.37061608956754755, 5.073046416539742, 0.11709967904445134, 2.9108714627140064, -0.9814250252862349, 1.455954885302419, 0.8347629828898097, -0.1867077011990298, 0.8856978339570617, 1.1107817940070157], \"yaxis\": \"y\"}],\n",
              "                        {\"legend\": {\"tracegroupgap\": 0}, \"margin\": {\"t\": 60}, \"template\": {\"data\": {\"bar\": [{\"error_x\": {\"color\": \"#2a3f5f\"}, \"error_y\": {\"color\": \"#2a3f5f\"}, \"marker\": {\"line\": {\"color\": \"#E5ECF6\", \"width\": 0.5}}, \"type\": \"bar\"}], \"barpolar\": [{\"marker\": {\"line\": {\"color\": \"#E5ECF6\", \"width\": 0.5}}, \"type\": \"barpolar\"}], \"carpet\": [{\"aaxis\": {\"endlinecolor\": \"#2a3f5f\", \"gridcolor\": \"white\", \"linecolor\": \"white\", \"minorgridcolor\": \"white\", \"startlinecolor\": \"#2a3f5f\"}, \"baxis\": {\"endlinecolor\": \"#2a3f5f\", \"gridcolor\": \"white\", \"linecolor\": \"white\", \"minorgridcolor\": \"white\", \"startlinecolor\": \"#2a3f5f\"}, \"type\": \"carpet\"}], \"choropleth\": [{\"colorbar\": {\"outlinewidth\": 0, \"ticks\": \"\"}, \"type\": \"choropleth\"}], \"contour\": [{\"colorbar\": {\"outlinewidth\": 0, \"ticks\": \"\"}, \"colorscale\": [[0.0, \"#0d0887\"], [0.1111111111111111, \"#46039f\"], [0.2222222222222222, \"#7201a8\"], [0.3333333333333333, \"#9c179e\"], [0.4444444444444444, \"#bd3786\"], [0.5555555555555556, \"#d8576b\"], [0.6666666666666666, \"#ed7953\"], [0.7777777777777778, \"#fb9f3a\"], [0.8888888888888888, \"#fdca26\"], [1.0, \"#f0f921\"]], \"type\": \"contour\"}], \"contourcarpet\": [{\"colorbar\": {\"outlinewidth\": 0, \"ticks\": \"\"}, \"type\": \"contourcarpet\"}], \"heatmap\": [{\"colorbar\": {\"outlinewidth\": 0, \"ticks\": \"\"}, \"colorscale\": [[0.0, \"#0d0887\"], [0.1111111111111111, \"#46039f\"], [0.2222222222222222, \"#7201a8\"], [0.3333333333333333, \"#9c179e\"], [0.4444444444444444, \"#bd3786\"], [0.5555555555555556, \"#d8576b\"], [0.6666666666666666, \"#ed7953\"], [0.7777777777777778, \"#fb9f3a\"], [0.8888888888888888, \"#fdca26\"], [1.0, \"#f0f921\"]], \"type\": \"heatmap\"}], \"heatmapgl\": [{\"colorbar\": {\"outlinewidth\": 0, \"ticks\": \"\"}, \"colorscale\": [[0.0, \"#0d0887\"], [0.1111111111111111, \"#46039f\"], [0.2222222222222222, \"#7201a8\"], [0.3333333333333333, \"#9c179e\"], [0.4444444444444444, \"#bd3786\"], [0.5555555555555556, \"#d8576b\"], [0.6666666666666666, \"#ed7953\"], [0.7777777777777778, \"#fb9f3a\"], [0.8888888888888888, \"#fdca26\"], [1.0, \"#f0f921\"]], \"type\": \"heatmapgl\"}], \"histogram\": [{\"marker\": {\"colorbar\": {\"outlinewidth\": 0, \"ticks\": \"\"}}, \"type\": \"histogram\"}], \"histogram2d\": [{\"colorbar\": {\"outlinewidth\": 0, \"ticks\": \"\"}, \"colorscale\": [[0.0, \"#0d0887\"], [0.1111111111111111, \"#46039f\"], [0.2222222222222222, \"#7201a8\"], [0.3333333333333333, \"#9c179e\"], [0.4444444444444444, \"#bd3786\"], [0.5555555555555556, \"#d8576b\"], [0.6666666666666666, \"#ed7953\"], [0.7777777777777778, \"#fb9f3a\"], [0.8888888888888888, \"#fdca26\"], [1.0, \"#f0f921\"]], \"type\": \"histogram2d\"}], \"histogram2dcontour\": [{\"colorbar\": {\"outlinewidth\": 0, \"ticks\": \"\"}, \"colorscale\": [[0.0, \"#0d0887\"], [0.1111111111111111, \"#46039f\"], [0.2222222222222222, \"#7201a8\"], [0.3333333333333333, \"#9c179e\"], [0.4444444444444444, \"#bd3786\"], [0.5555555555555556, \"#d8576b\"], [0.6666666666666666, \"#ed7953\"], [0.7777777777777778, \"#fb9f3a\"], [0.8888888888888888, \"#fdca26\"], [1.0, \"#f0f921\"]], \"type\": \"histogram2dcontour\"}], \"mesh3d\": [{\"colorbar\": {\"outlinewidth\": 0, \"ticks\": \"\"}, \"type\": \"mesh3d\"}], \"parcoords\": [{\"line\": {\"colorbar\": {\"outlinewidth\": 0, \"ticks\": \"\"}}, \"type\": \"parcoords\"}], \"pie\": [{\"automargin\": true, \"type\": \"pie\"}], \"scatter\": [{\"marker\": {\"colorbar\": {\"outlinewidth\": 0, \"ticks\": \"\"}}, \"type\": \"scatter\"}], \"scatter3d\": [{\"line\": {\"colorbar\": {\"outlinewidth\": 0, \"ticks\": \"\"}}, \"marker\": {\"colorbar\": {\"outlinewidth\": 0, \"ticks\": \"\"}}, \"type\": \"scatter3d\"}], \"scattercarpet\": [{\"marker\": {\"colorbar\": {\"outlinewidth\": 0, \"ticks\": \"\"}}, \"type\": \"scattercarpet\"}], \"scattergeo\": [{\"marker\": {\"colorbar\": {\"outlinewidth\": 0, \"ticks\": \"\"}}, \"type\": \"scattergeo\"}], \"scattergl\": [{\"marker\": {\"colorbar\": {\"outlinewidth\": 0, \"ticks\": \"\"}}, \"type\": \"scattergl\"}], \"scattermapbox\": [{\"marker\": {\"colorbar\": {\"outlinewidth\": 0, \"ticks\": \"\"}}, \"type\": \"scattermapbox\"}], \"scatterpolar\": [{\"marker\": {\"colorbar\": {\"outlinewidth\": 0, \"ticks\": \"\"}}, \"type\": \"scatterpolar\"}], \"scatterpolargl\": [{\"marker\": {\"colorbar\": {\"outlinewidth\": 0, \"ticks\": \"\"}}, \"type\": \"scatterpolargl\"}], \"scatterternary\": [{\"marker\": {\"colorbar\": {\"outlinewidth\": 0, \"ticks\": \"\"}}, \"type\": \"scatterternary\"}], \"surface\": [{\"colorbar\": {\"outlinewidth\": 0, \"ticks\": \"\"}, \"colorscale\": [[0.0, \"#0d0887\"], [0.1111111111111111, \"#46039f\"], [0.2222222222222222, \"#7201a8\"], [0.3333333333333333, \"#9c179e\"], [0.4444444444444444, \"#bd3786\"], [0.5555555555555556, \"#d8576b\"], [0.6666666666666666, \"#ed7953\"], [0.7777777777777778, \"#fb9f3a\"], [0.8888888888888888, \"#fdca26\"], [1.0, \"#f0f921\"]], \"type\": \"surface\"}], \"table\": [{\"cells\": {\"fill\": {\"color\": \"#EBF0F8\"}, \"line\": {\"color\": \"white\"}}, \"header\": {\"fill\": {\"color\": \"#C8D4E3\"}, \"line\": {\"color\": \"white\"}}, \"type\": \"table\"}]}, \"layout\": {\"annotationdefaults\": {\"arrowcolor\": \"#2a3f5f\", \"arrowhead\": 0, \"arrowwidth\": 1}, \"coloraxis\": {\"colorbar\": {\"outlinewidth\": 0, \"ticks\": \"\"}}, \"colorscale\": {\"diverging\": [[0, \"#8e0152\"], [0.1, \"#c51b7d\"], [0.2, \"#de77ae\"], [0.3, \"#f1b6da\"], [0.4, \"#fde0ef\"], [0.5, \"#f7f7f7\"], [0.6, \"#e6f5d0\"], [0.7, \"#b8e186\"], [0.8, \"#7fbc41\"], [0.9, \"#4d9221\"], [1, \"#276419\"]], \"sequential\": [[0.0, \"#0d0887\"], [0.1111111111111111, \"#46039f\"], [0.2222222222222222, \"#7201a8\"], [0.3333333333333333, \"#9c179e\"], [0.4444444444444444, \"#bd3786\"], [0.5555555555555556, \"#d8576b\"], [0.6666666666666666, \"#ed7953\"], [0.7777777777777778, \"#fb9f3a\"], [0.8888888888888888, \"#fdca26\"], [1.0, \"#f0f921\"]], \"sequentialminus\": [[0.0, \"#0d0887\"], [0.1111111111111111, \"#46039f\"], [0.2222222222222222, \"#7201a8\"], [0.3333333333333333, \"#9c179e\"], [0.4444444444444444, \"#bd3786\"], [0.5555555555555556, \"#d8576b\"], [0.6666666666666666, \"#ed7953\"], [0.7777777777777778, \"#fb9f3a\"], [0.8888888888888888, \"#fdca26\"], [1.0, \"#f0f921\"]]}, \"colorway\": [\"#636efa\", \"#EF553B\", \"#00cc96\", \"#ab63fa\", \"#FFA15A\", \"#19d3f3\", \"#FF6692\", \"#B6E880\", \"#FF97FF\", \"#FECB52\"], \"font\": {\"color\": \"#2a3f5f\"}, \"geo\": {\"bgcolor\": \"white\", \"lakecolor\": \"white\", \"landcolor\": \"#E5ECF6\", \"showlakes\": true, \"showland\": true, \"subunitcolor\": \"white\"}, \"hoverlabel\": {\"align\": \"left\"}, \"hovermode\": \"closest\", \"mapbox\": {\"style\": \"light\"}, \"paper_bgcolor\": \"white\", \"plot_bgcolor\": \"#E5ECF6\", \"polar\": {\"angularaxis\": {\"gridcolor\": \"white\", \"linecolor\": \"white\", \"ticks\": \"\"}, \"bgcolor\": \"#E5ECF6\", \"radialaxis\": {\"gridcolor\": \"white\", \"linecolor\": \"white\", \"ticks\": \"\"}}, \"scene\": {\"xaxis\": {\"backgroundcolor\": \"#E5ECF6\", \"gridcolor\": \"white\", \"gridwidth\": 2, \"linecolor\": \"white\", \"showbackground\": true, \"ticks\": \"\", \"zerolinecolor\": \"white\"}, \"yaxis\": {\"backgroundcolor\": \"#E5ECF6\", \"gridcolor\": \"white\", \"gridwidth\": 2, \"linecolor\": \"white\", \"showbackground\": true, \"ticks\": \"\", \"zerolinecolor\": \"white\"}, \"zaxis\": {\"backgroundcolor\": \"#E5ECF6\", \"gridcolor\": \"white\", \"gridwidth\": 2, \"linecolor\": \"white\", \"showbackground\": true, \"ticks\": \"\", \"zerolinecolor\": \"white\"}}, \"shapedefaults\": {\"line\": {\"color\": \"#2a3f5f\"}}, \"ternary\": {\"aaxis\": {\"gridcolor\": \"white\", \"linecolor\": \"white\", \"ticks\": \"\"}, \"baxis\": {\"gridcolor\": \"white\", \"linecolor\": \"white\", \"ticks\": \"\"}, \"bgcolor\": \"#E5ECF6\", \"caxis\": {\"gridcolor\": \"white\", \"linecolor\": \"white\", \"ticks\": \"\"}}, \"title\": {\"x\": 0.05}, \"xaxis\": {\"automargin\": true, \"gridcolor\": \"white\", \"linecolor\": \"white\", \"ticks\": \"\", \"title\": {\"standoff\": 15}, \"zerolinecolor\": \"white\", \"zerolinewidth\": 2}, \"yaxis\": {\"automargin\": true, \"gridcolor\": \"white\", \"linecolor\": \"white\", \"ticks\": \"\", \"title\": {\"standoff\": 15}, \"zerolinecolor\": \"white\", \"zerolinewidth\": 2}}}, \"xaxis\": {\"anchor\": \"y\", \"domain\": [0.0, 1.0], \"title\": {\"text\": \"x\"}}, \"yaxis\": {\"anchor\": \"x\", \"domain\": [0.0, 1.0], \"title\": {\"text\": \"y\"}}},\n",
              "                        {\"responsive\": true}\n",
              "                    ).then(function(){\n",
              "                            \n",
              "var gd = document.getElementById('459a0d65-c615-4dac-81fc-9e669575db05');\n",
              "var x = new MutationObserver(function (mutations, observer) {{\n",
              "        var display = window.getComputedStyle(gd).display;\n",
              "        if (!display || display === 'none') {{\n",
              "            console.log([gd, 'removed!']);\n",
              "            Plotly.purge(gd);\n",
              "            observer.disconnect();\n",
              "        }}\n",
              "}});\n",
              "\n",
              "// Listen for the removal of the full notebook cells\n",
              "var notebookContainer = gd.closest('#notebook-container');\n",
              "if (notebookContainer) {{\n",
              "    x.observe(notebookContainer, {childList: true});\n",
              "}}\n",
              "\n",
              "// Listen for the clearing of the current output cell\n",
              "var outputEl = gd.closest('.output');\n",
              "if (outputEl) {{\n",
              "    x.observe(outputEl, {childList: true});\n",
              "}}\n",
              "\n",
              "                        })\n",
              "                };\n",
              "                \n",
              "            </script>\n",
              "        </div>\n",
              "</body>\n",
              "</html>"
            ]
          },
          "metadata": {
            "tags": []
          }
        }
      ]
    },
    {
      "cell_type": "code",
      "metadata": {
        "id": "CYh-5xkY3KAv"
      },
      "source": [
        "#split the data into training and test sets\n",
        "import sklearn\n",
        "from sklearn.model_selection import train_test_split\n",
        "X, y = "
      ],
      "execution_count": null,
      "outputs": []
    },
    {
      "cell_type": "code",
      "metadata": {
        "id": "kt9kWCId4VgT"
      },
      "source": [
        "#create the knn object\n",
        "from sklearn.neighbors import KNeighborsClassifier\n",
        "clf = KNeighborsClassifier(n_neighbors=3)"
      ],
      "execution_count": null,
      "outputs": []
    },
    {
      "cell_type": "code",
      "metadata": {
        "id": "Rkgb5mU94gpc"
      },
      "source": [
        "#fit the model to the training data"
      ],
      "execution_count": null,
      "outputs": []
    },
    {
      "cell_type": "code",
      "metadata": {
        "id": "w2b401jp4q9y"
      },
      "source": [
        "#carry out model on testing data"
      ],
      "execution_count": null,
      "outputs": []
    },
    {
      "cell_type": "code",
      "metadata": {
        "id": "A6bpvmh-41G0"
      },
      "source": [
        "#calculate score for how well the model fits"
      ],
      "execution_count": null,
      "outputs": []
    }
  ]
}