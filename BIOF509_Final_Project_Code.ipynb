{
  "nbformat": 4,
  "nbformat_minor": 0,
  "metadata": {
    "colab": {
      "name": "BIOF509 Final Project Code",
      "provenance": [],
      "collapsed_sections": [],
      "authorship_tag": "ABX9TyO8mu2myGHZFvkTkGHRO4fz",
      "include_colab_link": true
    },
    "kernelspec": {
      "name": "python3",
      "display_name": "Python 3"
    }
  },
  "cells": [
    {
      "cell_type": "markdown",
      "metadata": {
        "id": "view-in-github",
        "colab_type": "text"
      },
      "source": [
        "<a href=\"https://colab.research.google.com/github/mad-scientist-in-training/BIOF509-Final-Project/blob/Project-Code/BIOF509_Final_Project_Code.ipynb\" target=\"_parent\"><img src=\"https://colab.research.google.com/assets/colab-badge.svg\" alt=\"Open In Colab\"/></a>"
      ]
    },
    {
      "cell_type": "code",
      "metadata": {
        "id": "UOayFAc8z8-l"
      },
      "source": [
        "#This is a project to determine if speech patterns in Parkinson's patients vs healthy controls can be used to train a Support Vector Machine model to predict which patients belong to which category."
      ],
      "execution_count": 3,
      "outputs": []
    },
    {
      "cell_type": "code",
      "metadata": {
        "id": "S-WdHULp0fgG"
      },
      "source": [
        "#Code outline"
      ],
      "execution_count": 4,
      "outputs": []
    },
    {
      "cell_type": "code",
      "metadata": {
        "id": "gSgeQX9V0wwX"
      },
      "source": [
        "#Import necessary libraries and packages\n",
        "import numpy as np\n",
        "import pandas as pd\n",
        "import seaborn\n",
        "import sklearn\n",
        "from sklearn.model_selection import train_test_split"
      ],
      "execution_count": 7,
      "outputs": []
    },
    {
      "cell_type": "code",
      "metadata": {
        "id": "VWmnKdi30xwK"
      },
      "source": [
        "#manipulate/visualize dataset to keep features you are interested in and get rid of ones you don't care about\n",
        "\n"
      ],
      "execution_count": null,
      "outputs": []
    },
    {
      "cell_type": "code",
      "metadata": {
        "id": "CYh-5xkY3KAv"
      },
      "source": [
        "#split the data into training and test sets"
      ],
      "execution_count": null,
      "outputs": []
    },
    {
      "cell_type": "code",
      "metadata": {
        "id": "kt9kWCId4VgT"
      },
      "source": [
        "#create the knn model"
      ],
      "execution_count": null,
      "outputs": []
    },
    {
      "cell_type": "code",
      "metadata": {
        "id": "Rkgb5mU94gpc"
      },
      "source": [
        "#fit the model to the training data"
      ],
      "execution_count": null,
      "outputs": []
    },
    {
      "cell_type": "code",
      "metadata": {
        "id": "w2b401jp4q9y"
      },
      "source": [
        "#carry out model on testing data"
      ],
      "execution_count": null,
      "outputs": []
    },
    {
      "cell_type": "code",
      "metadata": {
        "id": "A6bpvmh-41G0"
      },
      "source": [
        "#calculate score for how well the model fits"
      ],
      "execution_count": null,
      "outputs": []
    }
  ]
}